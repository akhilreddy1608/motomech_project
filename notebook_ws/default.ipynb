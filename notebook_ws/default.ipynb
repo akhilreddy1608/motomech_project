{
 "cells": [
  {
   "cell_type": "markdown",
   "metadata": {},
   "source": [
    "## Autonomous Mobile Robot Pallet Truck inside a Smart Factory\n",
    "\n",
    "### Table of contents\n",
    " - [1. Overview](#1.-Overview)\n",
    " - [2. Gazebo simulation](#2.-Gazebo-simulation)\n",
    "     - [2.1 AMR Pallet Truck](#2.1-AMR-Pallet-Truck)\n",
    "         - [2.1.1 amr_description](#2.1.1-amr_description)\n",
    "         - [Geometry](#Geometry)\n",
    "         - [Actuators](#Actuators)\n",
    "         - [Sensors](#Sensors)\n",
    "     - [2.2 Gazebo environment](#2.2-Gazebo-environment)\n",
    "       - [2.2.1 Gazebo models](#2.2.1-Gazebo-models)\n",
    "         - [CNC machine models](#CNC-machine-models)        \n",
    "         - [Chip bin model](#Chip-bin-model)\n",
    " -  [3. Navigation](#3.-Navigation)\n",
    "   - [3.1 amr_mapping](#3.1-amr_mapping)\n",
    "   - [3.2 amr_localization](#3.2-amr_localization)\n",
    "   - [3.3 amr_navigation](#3.3-amr_navigation)\n",
    "       - [Global planner](#Global-planner)\n",
    "       - [Local planner](#Local-planner)\n",
    " - [4. Chip bin management](#4.-Chip-bin-management)\n",
    "   - [4.1 amr_detection](#4.1-amr_detection)\n",
    "   - [4.2 amr_rendezvous](#4.2-amr_rendezvous)\n",
    "   - [4.3 amr_disengagement](#4.3-amr_disengagement)\n",
    "   - [4.4 amr_webpage](#4.4-amr_webpage)\n",
    " - [5. Installation](#5.-Installation)\n",
    " - [6. Usage](#6.-Usage)\n",
    "\n",
    "\n",
    " \n",
    "### 1. Overview\n",
    "\n",
    "The four industrial revolution (4IR) pushes the manufacturing industry to an integration with newest technologies like the Artificial Intelligence, the additive manufacturing, the augmented reality and the IoT Internet of Things. The 4IR also includes an advancement in connectivity between machines, robots, sensors, etc. that gives rise to “smart factories”.\n",
    "\n",
    "The following project refers to a smart factory in which the IoT, the advanced connectivity and the ROS technology allow an autonomous management of the raw and waste materials. In particular, the environment, shown in the figure 1.1, reproduces a mechanical workshop for working metals with numerical control machines; where an AMR pallet truck ensures the handling of both raw or semi-finished pieces and the transport of residual metal shaving."
   ]
  },
  {
   "cell_type": "markdown",
   "metadata": {},
   "source": [
    "<img src=\"images/mechanical_workshop.png\" width=\"700\" />"
   ]
  },
  {
   "cell_type": "markdown",
   "metadata": {},
   "source": [
    "Figure 1.1: Mechanical workshop environment. (1) AMR pallet trucks, (2) CNC machine, (3) full chip bin, (4) empty chip bin."
   ]
  },
  {
   "cell_type": "markdown",
   "metadata": {},
   "source": [
    "In the following scenario, it is staged an example of management of the residual metal chip bin by the AMR pallet truck using a web interface, as shown in figure 1.2. It leaves the fully automatic management to a later implementation."
   ]
  },
  {
   "cell_type": "markdown",
   "metadata": {},
   "source": [
    "<img src=\"images/webinterface.png\" width=\"700\" />"
   ]
  },
  {
   "cell_type": "markdown",
   "metadata": {},
   "source": [
    "Figure 1.2: Web Interface. Buttons: (1) go to full bin, (2) fork the bin, (3) elevator up, (4) go to recycling, (5) elevator down, (6) disengagement bin, (7) recycling bin, (8) go to empty bin, (9) go to CNC machine, (10) go home, (11) move forward, (12) move backward, (13) move turn CW, (14) move turn CCW, (15) stop, (16) connect/disconnect. Readings: (17) odometry position, (18) obstacle distances."
   ]
  },
  {
   "cell_type": "markdown",
   "metadata": {},
   "source": [
    "The project, created using ROS Noetic and Python language, has been divided into four main parts:\n",
    " - Gazebo simulation \n",
    " - chip bin management\n",
    " - navigation \n",
    " - usage\n",
    "\n",
    "The first part concerns the construction of the AMR and its environment, i.e. the mechanical workshop with CNC machines and the chip bins. The second one is dealing with the actions of the AMR, like: the detection, the engagement and the disengagement of the chip bin. The third regards the transport of both empty and full europallets. The last one is an explanation on how to do a chip bin replacement cycle using a web interface. To achive these objectives 9 packages were created, grouped as follows:\n",
    "\n",
    " - **Gazebo simulation** \n",
    "     - amr_description\n",
    "     - amr_environment     \n",
    " - **chip bin management**\n",
    "      - amr_detection\n",
    "      - amr_rendezvous\n",
    "      - amr_disengagement  \n",
    "      - amr_webpage\n",
    " - **navigation**\n",
    "      - amr_mapping\n",
    "      - amr_localization\n",
    "      - amr_navigation\n",
    " - **usage**\n",
    "      \n",
    "      "
   ]
  },
  {
   "cell_type": "markdown",
   "metadata": {},
   "source": [
    "<img src=\"images/rqt_graph.png\" width=\"700\" />"
   ]
  },
  {
   "cell_type": "markdown",
   "metadata": {},
   "source": [
    "Figure 1.3.: rqt_graph of the complete project (all nodes and topics)."
   ]
  },
  {
   "cell_type": "markdown",
   "metadata": {},
   "source": [
    "[Go to top](#Autonomous-Mobile-Robot-Pallet-Truck-inside-a-Smart-Factory)"
   ]
  },
  {
   "cell_type": "markdown",
   "metadata": {},
   "source": [
    "### 2. Gazebo simulation\n",
    "#### 2.1 AMR Pallet Truck\n",
    "The creation of the AMR Pallet Truck has been made inside the amr_description package.\n",
    "#### 2.1.1 amr_description\n",
    "The amr_description package is organized in the following folders structure:\n",
    "- config\n",
    "  - amr_controller.yaml\n",
    "- launch\n",
    "  - amr_joints_control.launch\n",
    "  - amr_urdf_visualize.launch\n",
    "  - elevator_service_server.launch\n",
    "  - main_project.launch\n",
    "  - rosbridge.launch\n",
    "  - spawn_main_amr_empty_world.launch\n",
    "  - spawn_main_amr_warehouse.launch\n",
    "- models\n",
    "  - meshes\n",
    "   - amr_blender.dae\n",
    "   - amr_fork.dae\n",
    "   - amr_wheel.dae\n",
    "- rviz\n",
    "  - rviz_config.rviz\n",
    "- src\n",
    "  - scripts\n",
    "    - elevator_service_server.py\n",
    "- srv\n",
    "  - ElevatorServiceMessage.srv\n",
    "- urdf\n",
    "  - amr_gen.pdf\n",
    "  - amr.gv\n",
    "  - amr.pdf\n",
    "  - amr.xacro\n",
    "- worlds\n",
    "  - empty.world\n",
    "\n",
    "The *urdf* folder contains the file *amr.xacro* which is a virtual description of the AMR in terms of *geometry*, *sensors* and *actuators*."
   ]
  },
  {
   "cell_type": "markdown",
   "metadata": {},
   "source": [
    "[Go to top](#Autonomous-Mobile-Robot-Pallet-Truck-inside-a-Smart-Factory)"
   ]
  },
  {
   "cell_type": "markdown",
   "metadata": {},
   "source": [
    "### Geometry\n",
    "The AMR pallet truck, of figure 2.1, has a mass of 90 kg and occupies an area of 1 x 1.2 metres. It is equipped with:\n",
    "- two differential driving wheels;\n",
    "- two caster wheels;\n",
    "- one front laser scanner (FOV 180 degree);\n",
    "- one rear laser scanner (FOV 60 degree);\n",
    "- two lifting forks.\n",
    "\n",
    "The design of a first virtual model was created in **PTC Creo Parametric CAD**, inspired by a manual pallet truck. The CAD model is shown in figure 2.1.\n",
    "\n",
    "\n",
    "The **XACRO** technology allows to use parameters and the **MACROS** is useful when it needs to repeat parts like the driving wheels and the caster wheels. Also, the parameters enable to modify mass, moments of inertia, morphology, etc. quickly and without entering the code. In particular, the geometric parameters values, see code 2 below,  have been obtained from the CAD, figures 2.1 and 2.2. A short excerpt follows:"
   ]
  },
  {
   "cell_type": "markdown",
   "metadata": {},
   "source": [
    "<img src=\"images/amr_pallet_truck_creo.png\" width=\"700\" />"
   ]
  },
  {
   "cell_type": "markdown",
   "metadata": {},
   "source": [
    "Figure 2.1: CAD model of the AMR Pallet truck, (1) emergency stop button, (2) flashing lamp, (3) differential driving wheels, (4) lifting forks, (5) caster wheels, (6) chassis."
   ]
  },
  {
   "cell_type": "markdown",
   "metadata": {},
   "source": [
    "<img src=\"images/amr_drawing.png\" width=\"700\" />"
   ]
  },
  {
   "cell_type": "markdown",
   "metadata": {},
   "source": [
    "Figure 2.2:AMR main dimensions, [mm]"
   ]
  },
  {
   "cell_type": "markdown",
   "metadata": {},
   "source": [
    "From PTC Creo, each piece of figure 2.1, was exported in *.stl* format to the *Blender* environment where the colors were added and finally exported again in *.dae* format, see figure 2.3 "
   ]
  },
  {
   "cell_type": "markdown",
   "metadata": {},
   "source": [
    "<img src=\"images/chassis_blender.png\" width=\"700\" />"
   ]
  },
  {
   "cell_type": "markdown",
   "metadata": {},
   "source": [
    "Figure 2.3: Blender environment. (6) chassis."
   ]
  },
  {
   "cell_type": "code",
   "execution_count": null,
   "metadata": {},
   "outputs": [],
   "source": [
    "    <xacro:macro name=\"driving_wheel_link\" params=\"number colour\">\n",
    "        \n",
    "        <link name=\"driving_wheel_M${number}_link\">    \n",
    "            \n",
    "            <visual>\n",
    "                <origin xyz=\"0 0 0\" rpy=\"0 0 0\"/> \n",
    "                <geometry>\n",
    "                    <mesh filename=\"package://amr_description/models/meshes/amr_wheel.dae\"/>\n",
    "                </geometry>\n",
    "                <material name=\"blue\"/>\n",
    "            </visual>  \n",
    "\n",
    "            <collision>\n",
    "                <origin xyz=\"0 0 0\" rpy=\"0 0 0\"/>\n",
    "                <geometry>\n",
    "                    <cylinder length=\"${dwt}\" radius=\"${dwr}\"/>\n",
    "                </geometry>\n",
    "            </collision>  \n",
    "\n",
    "            <inertial>\n",
    "                <origin xyz=\"0 0 0\" rpy=\"0 0 0\"/>            \n",
    "                <mass value=\"${dwm}\" />\n",
    "                <inertia ixx=\"${dw_ixx}\" ixy=\"0.0\" ixz=\"0.0\" iyy=\"${dw_iyy}\" iyz=\"0.0\" izz=\"${dw_izz}\"/>\n",
    "            </inertial>        \n",
    "\n",
    "        </link>\n",
    "\n",
    "        <gazebo reference=\"driving_wheel_M${number}_link\">\n",
    "            <kp>25000.0</kp> <!-- This coefficient sets the static contact stiffness -->\n",
    "            <kd>25000.0</kd> <!-- This coefficient sets the dynamic contact stiffness -->\n",
    "            <mu1>10.0</mu1> <!-- The static friction coefficient -->\n",
    "            <mu2>10.0</mu2> <!-- The dynamic friction coefficient -->\n",
    "            <!--material>Gazebo/${colour}</material--> <!-- to enable the color of .dae files -->\n",
    "        </gazebo>\n",
    "\n",
    "    </xacro:macro>"
   ]
  },
  {
   "cell_type": "markdown",
   "metadata": {},
   "source": [
    "Code 2.1: MACROS defining the driving wheels link"
   ]
  },
  {
   "cell_type": "markdown",
   "metadata": {},
   "source": [
    "The tags in the code above are needed to create a model in Gazebo. With the tags **< visual >** and **< collision >** are defined respectively: the appearance via the meshes .dae file, and the force reaction cylinder, with the parameters *dwt* and *dwr* specified below. At the end, the tag **< gazebo reference >** allows to add physical properties between the driving_wheel_link and the floor. Note that to enable color management in .dae file, it needs comment the **< material >** tag. Other details are specified as comments in the code above."
   ]
  },
  {
   "cell_type": "code",
   "execution_count": null,
   "metadata": {},
   "outputs": [],
   "source": [
    "    <!-- driving wheels property -->\n",
    "    <xacro:property name=\"dwm\" value=\"0.6\" />                                  \n",
    "    <xacro:property name=\"dwd\" value=\"0.200\" />                                \n",
    "    <xacro:property name=\"dwr\" value=\"${dwd/2}\" />                            \n",
    "    <xacro:property name=\"dwt\" value=\"0.044\" />              "
   ]
  },
  {
   "cell_type": "markdown",
   "metadata": {},
   "source": [
    "Code 2.2: dwm: driving wheel mass, [kg], dwd: driving wheel diameter, [m] , dwr: driving wheel radius, [m], dwt: driving wheel tread, [m]."
   ]
  },
  {
   "cell_type": "code",
   "execution_count": null,
   "metadata": {},
   "outputs": [],
   "source": [
    "    <xacro:property name=\"dw_ixx\" value=\"${(dwm/12.0)*(3*dwr*dwr+dwt*dwt)}\" />  \n",
    "    <xacro:property name=\"dw_iyy\" value=\"${dw_ixx}\" />                         \n",
    "    <xacro:property name=\"dw_izz\" value=\"${(dwm*dwr*dwr)/2.0}\" />                      "
   ]
  },
  {
   "cell_type": "markdown",
   "metadata": {},
   "source": [
    "Code 2.3: dw_ixx: driving wheel inertia x axis, [kgm^2] , dw_iyy: driving wheel inertia y axis, [kgm^2], dw_izz: driving wheel inertia z axis, [kgm^2]."
   ]
  },
  {
   "cell_type": "markdown",
   "metadata": {},
   "source": [
    "Furthermore, the geometry of the AMR is built using the **< link >** and **< joint >** tags respecting a logic of parent/child relationships. The joints of the driving wheels and the caster wheels are of the *revolute* type, instead the joints of the lifting forks are of the *prismatic* type. \n",
    "\n",
    "Finally, the XACRO file was verified using the following tool."
   ]
  },
  {
   "cell_type": "code",
   "execution_count": null,
   "metadata": {},
   "outputs": [],
   "source": [
    "xacro amr.xacro > tmp.urdf && check_urdf tmp.urdf && rm tmp.urdf"
   ]
  },
  {
   "cell_type": "markdown",
   "metadata": {},
   "source": [
    "To easily verify the correctness of the connections made (geometry) the amr_gen.urdf file is visualized, as follows:"
   ]
  },
  {
   "cell_type": "code",
   "execution_count": null,
   "metadata": {},
   "outputs": [],
   "source": [
    "xacro amr.xacro > amr_gen.urdf\n",
    "urdf_to_graphiz amr_gen.urdf"
   ]
  },
  {
   "cell_type": "markdown",
   "metadata": {},
   "source": [
    "<img src=\"images/link_joint_connections.png\" width=\"700\" />"
   ]
  },
  {
   "cell_type": "markdown",
   "metadata": {},
   "source": [
    "Figure 2.4: overall virtual model of the AMR with link-joint connections."
   ]
  },
  {
   "cell_type": "markdown",
   "metadata": {},
   "source": [
    "<img src=\"images/link_joint_connections_detail.png\" width=\"700\" />"
   ]
  },
  {
   "cell_type": "markdown",
   "metadata": {},
   "source": [
    "Figure 2.5: detail of the AMR virtual model. Rectangular and elliptical shapes represent respectively links (frames) and joints."
   ]
  },
  {
   "cell_type": "markdown",
   "metadata": {},
   "source": [
    "The figure 2.6 shows the transformations (arrows) between the links (ellipsis). It allows to graphically verify the correctness of the trasformations with the following command:"
   ]
  },
  {
   "cell_type": "code",
   "execution_count": null,
   "metadata": {},
   "outputs": [],
   "source": [
    "rosrun rqt_tf_tree rqt_tf_tree"
   ]
  },
  {
   "cell_type": "markdown",
   "metadata": {},
   "source": [
    "<img src=\"images/tf_tree.png\" width=\"700\" />"
   ]
  },
  {
   "cell_type": "markdown",
   "metadata": {},
   "source": [
    "Figure 2.6: Transformation tree of AMR Pallet Truck: (1) base_link, (2) front_laserscanner_link, (3) rear_laserscanner_link, (4) caster_wheel_M1_link, (5) wheel_M1_link, (6) caster_wheel_M2_link, (7) wheel_M2_link, (8) driving_wheel_M1_link, (9) driving_wheel_M2_link, (10) elevator_dx_link, (11) elevator_sx_link, (12) footprint."
   ]
  },
  {
   "cell_type": "markdown",
   "metadata": {},
   "source": [
    "Finally, the AMR visualized in RViz appears as shown in figure 2.7. To verify the movement and the limit values of the joints, the AMR is displayed in RViz launching the **joints publisher GUI**, the figure 2.8 shows the movement of the prismatic joints of the lifting forks."
   ]
  },
  {
   "cell_type": "markdown",
   "metadata": {},
   "source": [
    "<img src=\"images/amr_link_rviz.png\" width=\"700\" />"
   ]
  },
  {
   "cell_type": "markdown",
   "metadata": {},
   "source": [
    "Figure 2.7: Visualization of the AMR's link and trasformations in Rviz. (1) front_laserscanner_link, (2) driving_wheel_M1_link, (3) rear_laserscanner_link, (4) elevator_sx_link, (5) caster_wheel_M1_link, (6) wheel_M1_link"
   ]
  },
  {
   "cell_type": "markdown",
   "metadata": {},
   "source": [
    "<img src=\"images/amr_joint_gui.png\" width=\"700\" />"
   ]
  },
  {
   "cell_type": "markdown",
   "metadata": {},
   "source": [
    "Figure 2.8: Visualization of the AMR with meshes in Rviz"
   ]
  },
  {
   "cell_type": "markdown",
   "metadata": {},
   "source": [
    "[Go to top](#Autonomous-Mobile-Robot-Pallet-Truck-inside-a-Smart-Factory)"
   ]
  },
  {
   "cell_type": "markdown",
   "metadata": {},
   "source": [
    "### Actuators\n",
    "The AMR pallet truck has four actuators: two motors for the differential wheels and two linear actuators for the lift forks. The choice of two different actuators for the lift forks has been done to allow an indipendent movement for next developements.\n",
    "\n",
    "The motors, by the differential drive plugins, are applied to the two revolute joints well positioned as they appear in figure 2.7. While the linear actuators are managed by the plugin below."
   ]
  },
  {
   "cell_type": "code",
   "execution_count": null,
   "metadata": {},
   "outputs": [],
   "source": [
    "\n",
    "    <gazebo>\n",
    "        <plugin name=\"gazebo_ros_control\" filename=\"libgazebo_ros_control.so\">\n",
    "            <robotNamespace>/amr</robotNamespace>\n",
    "        </plugin>\n",
    "    </gazebo>\n",
    "    \n",
    "   <joint name=\"base_link_elevator_sx_link_joint\" type=\"prismatic\">  \n",
    "        <parent link=\"base_link\"/>\n",
    "        <child link=\"elevator_sx_link\"/>\n",
    "        <origin rpy=\"0 0 0\" xyz=\"-0.85 0.186 -0.040\"/> <!--respect to parent axis -->\n",
    "        <limit effort=\"1000.0\" lower=\"${flp}\" upper=\"${fup}\" velocity=\"${fev}\"/>        \n",
    "        <axis xyz=\"0 0 1\"/>\n",
    "   </joint>\n",
    "\n",
    "    <transmission name=\"tran1\">\n",
    "        <type>transmission_interface/SimpleTransmission</type>\n",
    "        <joint name=\"base_link_elevator_sx_link_joint\">\n",
    "            <hardwareInterface>hardware_interface/EffortJointInterface</hardwareInterface>\n",
    "        </joint>\n",
    "        <actuator name=\"motor1\">\n",
    "            <hardwareInterface>hardware_interface/EffortJointInterface</hardwareInterface>\n",
    "            <mechanicalReduction>${ftr}</mechanicalReduction>\n",
    "        </actuator>\n",
    "    </transmission>"
   ]
  },
  {
   "cell_type": "markdown",
   "metadata": {},
   "source": [
    "Code 2.4: Gazebo code for the actuators."
   ]
  },
  {
   "cell_type": "markdown",
   "metadata": {},
   "source": [
    "The control config YAML file is used to create the transmission with the PID control."
   ]
  },
  {
   "cell_type": "code",
   "execution_count": null,
   "metadata": {},
   "outputs": [],
   "source": [
    "amr:\n",
    "    # Publish all joint states -----------------------------------\n",
    "    joint_state_controller:\n",
    "      type: joint_state_controller/JointStateController\n",
    "      publish_rate: 50\n",
    "\n",
    "    # Forks Position Controllers ---------------------------------------\n",
    "    base_link_elevator_sx_link_joint_position_controller:\n",
    "      type: effort_controllers/JointPositionController\n",
    "      joint: base_link_elevator_sx_link_joint\n",
    "      pid: {p: 100000.0, i: 100.0, d: 100}       \n",
    "\n",
    "    # Forks Position Controllers ---------------------------------------\n",
    "    base_link_elevator_dx_link_joint_position_controller:\n",
    "      type: effort_controllers/JointPositionController\n",
    "      joint: base_link_elevator_dx_link_joint\n",
    "      pid: {p: 100000.0, i: 100.0, d: 100}\n",
    "\n",
    "\n"
   ]
  },
  {
   "cell_type": "markdown",
   "metadata": {},
   "source": [
    "Code 2.5: Controller parameters"
   ]
  },
  {
   "cell_type": "markdown",
   "metadata": {},
   "source": [
    "The PID parameters have been configured with Dynamic Reconfiguration panel."
   ]
  },
  {
   "cell_type": "code",
   "execution_count": null,
   "metadata": {},
   "outputs": [],
   "source": [
    "rosrun rqt_gui rqt_gui"
   ]
  },
  {
   "cell_type": "markdown",
   "metadata": {},
   "source": [
    "Two useful plugins like **Message Publisher** and **Dynamic Reconfiguration** allow you to set the values of the fork joint PID controllers."
   ]
  },
  {
   "cell_type": "markdown",
   "metadata": {},
   "source": [
    "<img src=\"images/amr_joint_dynamic_reconfiguration.png\" width=\"700\" />"
   ]
  },
  {
   "cell_type": "markdown",
   "metadata": {},
   "source": [
    "Figure 2.9: Dynamic reconfiguration panel for PID joint controller setup."
   ]
  },
  {
   "cell_type": "code",
   "execution_count": null,
   "metadata": {},
   "outputs": [],
   "source": [
    "<!-- * * * driving_wheel_links * * * -->\n",
    "    <xacro:driving_wheel_link number=\"1\" colour=\"Blue\" />\n",
    "    <xacro:driving_wheel_link number=\"2\" colour=\"Blue\"/>\n",
    "\n",
    "    <joint name=\"base_link_driving_wheel_M1_joint\" type=\"continuous\">\n",
    "        <parent link=\"base_link\"/>\n",
    "        <child link=\"driving_wheel_M1_link\"/>\n",
    "        <origin xyz=\"0 ${-clad/2+dwt/2} ${0}\" rpy=\"1.57 0 0\"/> <!-- <origin xyz=\"0 ${-clad/2} ${-cwlh}\" rpy=\"1.57 0 0\"/> * * * -->\n",
    "        <limit effort=\"15.0\" velocity=\"0.1\"/>\n",
    "        <axis xyz=\"0 0 -1\"/>\n",
    "    </joint>\n",
    "\n",
    "\n",
    "    <joint name=\"base_link_driving_wheel_M2_joint\" type=\"continuous\">\n",
    "        <parent link=\"base_link\"/>\n",
    "        <child link=\"driving_wheel_M2_link\"/>\n",
    "        <origin xyz=\"0 ${clad/2-dwt/2} ${0}\" rpy=\"1.57 0 0\"/>\n",
    "        <limit effort=\"15.0\" velocity=\"0.1\"/>\n",
    "        <axis xyz=\"0 0 -1\"/>\n",
    "    </joint>\n",
    "\n",
    "\n",
    "    <gazebo>\n",
    "        <plugin name=\"differential_drive_controller\" filename=\"libgazebo_ros_diff_drive.so\">\n",
    "\n",
    "            <alwaysOn>true</alwaysOn>\n",
    "            <updateRate>50</updateRate>\n",
    "            <leftJoint>base_link_driving_wheel_M2_joint</leftJoint>\n",
    "            <rightJoint>base_link_driving_wheel_M1_joint</rightJoint>\n",
    "            <wheelSeparation>${clad+dwt}</wheelSeparation>\n",
    "            <wheelDiameter>${dwd}</wheelDiameter>\n",
    "            <wheelAcceleration>0.1</wheelAcceleration>\n",
    "            <wheelTorque>30</wheelTorque>\n",
    "            <commandTopic>cmd_vel</commandTopic>\n",
    "            <odometryTopic>odom</odometryTopic>\n",
    "            <odometryFrame>odom</odometryFrame>\n",
    "            <robotBaseFrame>base_footprint</robotBaseFrame>\n",
    "            <publishWheelTF>true</publishWheelTF>\n",
    "            <publishOdom>true</publishOdom>\n",
    "            <robotBaseFrame>base_link</robotBaseFrame>\n",
    "            <publishWheelJointState>true</publishWheelJointState>\n",
    "            <legacyMode>false</legacyMode>\n",
    "            <rosDebugLevel>false</rosDebugLevel>\n",
    "            <publishOdomTF>true</publishOdomTF> <!--TF transforms to visualize in RVIZ all the positions of the wheels. -->\n",
    "            <odometrySource>world</odometrySource>\n",
    "            <publishTf>1</publishTf>\n",
    "        </plugin>\n",
    "    </gazebo>  "
   ]
  },
  {
   "cell_type": "markdown",
   "metadata": {},
   "source": [
    "Code 2.6: Differential drive controller plugin."
   ]
  },
  {
   "cell_type": "markdown",
   "metadata": {},
   "source": [
    "[Go to top](#Autonomous-Mobile-Robot-Pallet-Truck-inside-a-Smart-Factory)"
   ]
  },
  {
   "cell_type": "markdown",
   "metadata": {},
   "source": [
    "### Sensors\n",
    "The AMR has two laser scanners, as shown in figure 2.7. In this, position 1 shows the front laser with a 180 degree field of view (FOV) set up for the navigation stack. Position 3 shows the second laser scanner which supplies the data to carry out the detection phase of the europallets (chip bins). The detection strategy is to find the placement of the europallet by measuring the distances and angles between the laser and two reflectors fixed to the ends of the europallet itself.\n"
   ]
  },
  {
   "cell_type": "markdown",
   "metadata": {},
   "source": [
    "<img src=\"images/rear_laser_gazebo.png\" width=\"700\" />"
   ]
  },
  {
   "cell_type": "markdown",
   "metadata": {},
   "source": [
    "Figure 2.10: europallet detection phase. (1) left reflector, (2) right reflector, (3) rear laser scanner with 60 degree FOV."
   ]
  },
  {
   "cell_type": "markdown",
   "metadata": {},
   "source": [
    "<img src=\"images/rear_laser_rviz.png\" width=\"700\" />"
   ]
  },
  {
   "cell_type": "markdown",
   "metadata": {},
   "source": [
    "Figure 2.11: europallet detection phase. (1) left reflector frame, (2) right reflector frame, (3) rear laser scanner frame."
   ]
  },
  {
   "cell_type": "markdown",
   "metadata": {},
   "source": [
    "A 60 degree FOV has been set to have more resolution and to obtain more precise and stable measurements and frames. The code below is the controller plugin that publishes the readings into /rear_scan topic. Details on the front laser scanner are similar and have not been reported."
   ]
  },
  {
   "cell_type": "code",
   "execution_count": null,
   "metadata": {},
   "outputs": [],
   "source": [
    " <!-- Sensor Laser in the back -->\n",
    "\n",
    "    <link name=\"rear_laserscanner_link\">\n",
    "        \n",
    "        <visual>\n",
    "            <origin rpy=\"0.0 0 0\" xyz=\"0 0 0\"/>\n",
    "            <geometry>\n",
    "                <box size=\"0.0005 0.0005 0.0005\"/>\n",
    "            </geometry>\n",
    "            <material name=\"green\"/>\n",
    "        </visual>\n",
    "\n",
    "        <collision>\n",
    "            <origin rpy=\"0.0 0 0\" xyz=\"0 0 0\"/>\n",
    "            <geometry>\n",
    "                <box size=\"0.0005 0.0005 0.0005\"/>\n",
    "            </geometry>\n",
    "        </collision>\n",
    "\n",
    "        <inertial>\n",
    "            <mass value=\"1e-5\" />\n",
    "            <origin xyz=\"0 0 0\" rpy=\"0 0 0\"/>\n",
    "            <inertia ixx=\"1e-6\" ixy=\"0\" ixz=\"0\" iyy=\"1e-6\" iyz=\"0\" izz=\"1e-6\" />\n",
    "        </inertial>\n",
    "\n",
    "    </link>\n",
    "\n",
    "    <joint name=\"base_rear_laserscanner_joint\" type=\"fixed\">\n",
    "        <parent link=\"base_link\"/>\n",
    "        <child link=\"rear_laserscanner_link\"/>\n",
    "        <origin xyz=\"${-clod/2} 0 ${flsh}\" rpy=\"0 0 1.57\"/> <!-- <origin xyz=\"${-clod/2} ${-clad/2} ${flsh}\" rpy=\"0 0 1.57\"/> -->\n",
    "    </joint>\n",
    "\n",
    "    <gazebo reference=\"rear_laserscanner_link\">\n",
    "        <sensor type=\"ray\" name=\"rear_rplidar_sensor\">\n",
    "            <pose>0 0 0 0 0 0</pose>\n",
    "            <visualize>true</visualize>\n",
    "            <update_rate>40</update_rate>\n",
    "            <ray>\n",
    "                <scan>\n",
    "                    <horizontal>\n",
    "                        <samples>720</samples>\n",
    "                        <resolution>1</resolution> <!-- step that corresponds to an angle -->\n",
    "                        <min_angle>1.2217</min_angle>\n",
    "                        <max_angle>1.9199</max_angle>\n",
    "                    </horizontal>\n",
    "                </scan>\n",
    "                <range>\n",
    "                    <min>0.10</min>\n",
    "                    <max>5.0</max>\n",
    "                    <resolution>0.01</resolution> <!-- distance in [m] -->\n",
    "                </range>\n",
    "                <noise>\n",
    "                    <type>gaussian</type>\n",
    "                    <!-- Noise parameters based on published spec for Hokuyo laser\n",
    "                         achieving \"+-30mm\" accuracy at range < 10m.  A mean of 0.0m and\n",
    "                         stddev of 0.01m will put 99.7% of samples within mu+3*sigma and mu-3*sigma\n",
    "                         that is 0+3*0.01 = +0.03 and -0.03m of the true readings. -->\n",
    "                    <mean>0.0</mean>\n",
    "                    <stddev>0.01</stddev>\n",
    "                </noise>\n",
    "            </ray>\n",
    "            <plugin name=\"gazebo_ros_head_hokuyo_controller\" filename=\"libgazebo_ros_laser.so\">\n",
    "                <topicName>rear_scan</topicName>\n",
    "                <frameName>rear_laserscanner_link</frameName>\n",
    "            </plugin>\n",
    "        </sensor>\n",
    "    </gazebo>"
   ]
  },
  {
   "cell_type": "markdown",
   "metadata": {},
   "source": [
    "Code 2.7: Rear laser scanner controller plugin publishes range data through sensor_msgs::LaserScan ROS topic."
   ]
  },
  {
   "cell_type": "markdown",
   "metadata": {},
   "source": [
    "The URDF file is loaded to the **param server** variable called \"robot_description.\" \n",
    "Start the jointstate publisher and the robotstate publisher. These will publish the TFs of the URDF of the AMR links and joints."
   ]
  },
  {
   "cell_type": "markdown",
   "metadata": {},
   "source": [
    "[Go to top](#Autonomous-Mobile-Robot-Pallet-Truck-inside-a-Smart-Factory)"
   ]
  },
  {
   "cell_type": "markdown",
   "metadata": {},
   "source": [
    "### 2.2 Gazebo environment\n",
    "This package takes care of building  the environemnt in which the AMR moves and interacts. Its structure is the following:\n",
    "\n",
    " - amr_environemnt\n",
    "   - launch\n",
    "     - no_roof_small_warehouse.launch\n",
    "   - models\n",
    "     - aws_robomaker_warehouse_GroundB_01\n",
    "     - aws_robomaker_warehouse_Lamp_01\n",
    "     - aws_robomaker_warehouse_PalletJackB_01\n",
    "     - aws_robomaker_warehouse_RoofB_01\n",
    "     - aws_robomaker_warehouse_WallB_01\n",
    "     - becket_model\n",
    "     - cncmillingbig_model\n",
    "     - cncmillingsmall_model\n",
    "     - full_becket_model\n",
    "     - person_standing\n",
    "   - src\n",
    "   - worlds\n",
    "      - no_roof_small_warehouseworld\n",
    "   - CmakeLists.txt\n",
    "   - Package.xml\n",
    "\n",
    "The contents of the model folders were partly created ex novo and partly using resources found on the net. In particular, the components such as the **walls**, the **floor**, the **lamp** and the **person standing** are those of the Amazon warehouse package available at https://github.com/aws-robotics/aws-robomaker-small-warehouse-world and the Gazebo library. Instead the **CNC machines** and the **chip bins (full and empty) on europallets** were created from scratch.\n"
   ]
  },
  {
   "cell_type": "markdown",
   "metadata": {},
   "source": [
    "[Go to top](#Autonomous-Mobile-Robot-Pallet-Truck-inside-a-Smart-Factory)"
   ]
  },
  {
   "cell_type": "markdown",
   "metadata": {},
   "source": [
    "### 2.2.1 Gazebo models\n",
    "The main objects that make up the environment in which the AMR moves are:\n",
    "- CNC machines;\n",
    "- Chip bins on europallets.\n",
    "\n",
    "#### CNC machine models\n",
    "In the list above, **cncmillingbig_model** and **cncmillingsmall_model** models are contained in folders with the following structure:\n",
    "\n",
    "- cncmillingbig_model\n",
    "   - materials\n",
    "       - textures\n",
    "   - meshes\n",
    "     - VF-11_50_STEP__7_2022_low_r_03.dae\n",
    "- model.config\n",
    "- model.sdf\n",
    "\n",
    "\n",
    "- cncmillingsmall_model\n",
    "   - materials\n",
    "       - textures\n",
    "   - meshes\n",
    "     - VF-1_STEP_11_2021_low.dae\n",
    "- model.config\n",
    "- model.sdf\n",
    "\n",
    "The model.sdf and the model.config files are reported in the Codes 2.8 and 2.9 below for the big machine only. The fist one contains all the data to enable the CNC machines to interact in an physical environment with the AMR, like: mass, moment of inertia, collision and appearence.\n",
    "\n",
    "About the appearence, the step files of VF1 and VF11-50 CNC machines have been downloaded from the **HAAS** web site at https://www.haascnc.com/it/machines/vertical-mills/vf-series/models/small/vf-1.html and https://www.haascnc.com/it/machines/vertical-mills/vf-series/models/large/vf-11-50.html. The **FreeCAD** software has been needed to translate the step file format into .stl. The latter was reworked in **Blender** software to add colors and to produce precisely  VF-11_50_STEP__7_2022_low_r_03.dae and VF-1_STEP_11_2021_low.dae files, see figures 2.12 and 2.13."
   ]
  },
  {
   "cell_type": "markdown",
   "metadata": {},
   "source": [
    "<img src=\"images/haas_vf-11-50-freecad.png\" width=\"700\" />"
   ]
  },
  {
   "cell_type": "markdown",
   "metadata": {},
   "source": [
    "Figure 2.12: HAAS VF-11-50 CNC machines imported in FreeCAD and exported in stl format file."
   ]
  },
  {
   "cell_type": "markdown",
   "metadata": {},
   "source": [
    "<img src=\"images/haas_vf-11-50-blender.png\" width=\"700\" />"
   ]
  },
  {
   "cell_type": "markdown",
   "metadata": {},
   "source": [
    "Figure 2.13:  HAAS VF-11-50 CNC machines imported into Blender environment to add colors and to export VF-11_50_STEP__7_2022_low_r_03.dae file. "
   ]
  },
  {
   "cell_type": "code",
   "execution_count": null,
   "metadata": {},
   "outputs": [],
   "source": [
    "<?xml version=\"1.0\" ?>\n",
    "<model>\n",
    "    <name>cnc_milling_big</name>\n",
    "    <version>1.0</version>\n",
    "    <sdf version=\"1.6\">model.sdf</sdf>\n",
    "    <author>\n",
    "        <name>Salvatore Volpe</name>\n",
    "        <email>salvatore.volpe@mtmt.it</email>\n",
    "    </author>\n",
    "    <description></description>\n",
    "</model>"
   ]
  },
  {
   "cell_type": "markdown",
   "metadata": {},
   "source": [
    "Code 2.8: model.config file"
   ]
  },
  {
   "cell_type": "code",
   "execution_count": null,
   "metadata": {},
   "outputs": [],
   "source": [
    "<?xml version=\"1.0\" ?>\n",
    "<sdf version=\"1.6\">\n",
    "  <model name=\"cnc_milling_big\">\n",
    "    <link name=\"link\">\n",
    "        <pose frame=''>0 0 0.0 0 0 0.0</pose>\n",
    "      <inertial>\n",
    "        <mass>2</mass>\n",
    "        <inertia>\n",
    "          <ixx>0.277</ixx>\n",
    "          <ixy>0</ixy>\n",
    "          <ixz>0</ixz>\n",
    "          <iyy>0.452</iyy>\n",
    "          <iyz>0</iyz>\n",
    "          <izz>0.268</izz>\n",
    "        </inertia>\n",
    "      </inertial>\n",
    "      <collision name=\"collision\">\n",
    "        <pose frame='link'>0 -1 0 0 0 0</pose>\n",
    "        <geometry>          \n",
    "          <box>\n",
    "            <size>6.5 3 2</size>\n",
    "          </box>       \n",
    "         </geometry>\n",
    "\t\t<surface>\n",
    "          <friction>\n",
    "            <ode>\n",
    "              <mu>0.2</mu>\n",
    "              <mu2>0.2</mu2>\n",
    "              <fdir1>0 0 0</fdir1>\n",
    "              <slip1>0</slip1>\n",
    "              <slip2>0</slip2>\n",
    "            </ode>\n",
    "        </friction>\n",
    "          </surface>\n",
    "      </collision>\n",
    "      <visual name=\"visual\">\n",
    "\t    <geometry>\n",
    "          <mesh>\n",
    "            <uri>model://cncmillingbig_model/meshes/VF-11_50_STEP__7_2022_low_r_03.dae</uri>\n",
    "          </mesh>\n",
    "        </geometry>\n",
    "      <meta> <layer> 1 </layer></meta>\n",
    "</visual>\n",
    "    </link>\n",
    "<static>1</static>\n",
    "  </model>\n",
    "</sdf>\n"
   ]
  },
  {
   "cell_type": "markdown",
   "metadata": {},
   "source": [
    "Code 2.9: model.sdf file"
   ]
  },
  {
   "cell_type": "markdown",
   "metadata": {},
   "source": [
    "[Go to top](#Autonomous-Mobile-Robot-Pallet-Truck-inside-a-Smart-Factory)"
   ]
  },
  {
   "cell_type": "markdown",
   "metadata": {},
   "source": [
    "#### Chip bin model "
   ]
  },
  {
   "cell_type": "markdown",
   "metadata": {},
   "source": [
    "The main characteristics of chip bin model (becket_model) are:\n",
    "- interact with AMR through reactive surfaces;\n",
    "- be located through reflective surfaces;\n",
    "- appearance defined by textures.\n",
    "\n",
    "\n",
    "It is contained in folders with the following structure:\n",
    " \n",
    "- becket_model\n",
    "   - materials\n",
    "       - scripts\n",
    "        - becket.material\n",
    "       - textures\n",
    "        - container_texture.png\n",
    "        - EuroPallet_Wood.png\n",
    "   - meshes\n",
    "     - becket.dae\n",
    "     - europallet.dae\n",
    "- model.config\n",
    "- model.sdf"
   ]
  },
  {
   "cell_type": "markdown",
   "metadata": {},
   "source": [
    "As regards the first feature, the forks of the AMR hook and lift the europallet. To make this action possible and realistic, collision surfaces are defined using code block 2.10 with which the prismatic shapes are created as shown in figure 2.14"
   ]
  },
  {
   "cell_type": "code",
   "execution_count": null,
   "metadata": {},
   "outputs": [],
   "source": [
    "      <collision name='collision0'>\n",
    "        <laser_retro>0</laser_retro>\n",
    "        <max_contacts>10</max_contacts>\n",
    "        <pose frame=''>0.0 0.0 0.1 0.0 0.0 0.0</pose>\n",
    "        <geometry>\n",
    "          <box>\n",
    "            <size>1.2 0.80 0.04</size>\n",
    "          </box>\n",
    "        </geometry>\n",
    "      </collision>   "
   ]
  },
  {
   "cell_type": "markdown",
   "metadata": {},
   "source": [
    "Code 2.10: Code block to define a prismatich shape 1.2 x 0.8 x 0.04 [m]"
   ]
  },
  {
   "cell_type": "markdown",
   "metadata": {},
   "source": [
    "<img src=\"images/europallet_collisions.png\" width=\"700\" />"
   ]
  },
  {
   "cell_type": "markdown",
   "metadata": {},
   "source": [
    "Figure 2.14: reactive surfaces of the becket_model.  (1) collision 0, (2) collision 3, (3) collision 1, (4) collision 2, (5) collision 4."
   ]
  },
  {
   "cell_type": "markdown",
   "metadata": {},
   "source": [
    "<img src=\"images/europallet_dimensions.png\" width=\"700\" />"
   ]
  },
  {
   "cell_type": "markdown",
   "metadata": {},
   "source": [
    "Figure 2.15: europallet dimensions"
   ]
  },
  {
   "cell_type": "markdown",
   "metadata": {},
   "source": [
    "About the second feature, four reflective surfaces were placed at the corners of the europallet. The following code creates the geometry and the collision. A new **< laser_retro >** tag reflects the laser rays with an intensity value of 8000. The different value of the reflection intensity allows to locate the position of the corners of the europallet with respect to the laser."
   ]
  },
  {
   "cell_type": "code",
   "execution_count": null,
   "metadata": {},
   "outputs": [],
   "source": [
    "    <link name='link_reflector_1'>\n",
    "      <pose frame='link_0'>0.6 -0.35 0.05 0 0 0</pose>\n",
    "      <gravity>0</gravity>\n",
    "\n",
    "      <visual name='visual0'>\n",
    "        <pose frame=''>0 0 0.0 0 0 0</pose>\n",
    "        <geometry>\n",
    "          <box><size>0.005 0.05 0.1</size></box>\n",
    "        </geometry>\n",
    "        <material>\n",
    "          <lighting>1</lighting>\n",
    "          <ambient>0.3 0.3 0.3 1</ambient>\n",
    "          <diffuse>0.7 0.7 0.7 1</diffuse>\n",
    "          <specular>0.01 0.01 0.01 1</specular>\n",
    "          <emissive>0 0 0 1</emissive>\n",
    "          <shader type='vertex'>\n",
    "            <normal_map>__default__</normal_map>\n",
    "          </shader>\n",
    "        </material>\n",
    "      </visual>\n",
    "      <collision name='collision0'>\n",
    "        <pose frame=''>0 0 -0.0 0 -0 0</pose>\n",
    "        <geometry>\n",
    "          <box><size>0.005 0.05 0.10</size></box>\n",
    "        </geometry>\n",
    "\t<laser_retro>8000</laser_retro>\n",
    "      </collision>\n",
    "    </link>"
   ]
  },
  {
   "cell_type": "markdown",
   "metadata": {},
   "source": [
    "Code 2.11: Reflector code"
   ]
  },
  {
   "cell_type": "markdown",
   "metadata": {},
   "source": [
    "About the appearance, inside the model.sdf file there are two models: the europallet and the bucket (chip bin). Both are represented by means of a .dae CAD file enriched with .png texture files which are respectively contained in the meshes and textures folders. A .material file creates the link between these files."
   ]
  },
  {
   "cell_type": "code",
   "execution_count": null,
   "metadata": {},
   "outputs": [],
   "source": [
    "      <visual name='europallet'>\n",
    "        <pose frame=''>0 0.010 0 0 0 1.57</pose>\n",
    "        <geometry>\n",
    "          <mesh>\n",
    "\t\t<uri>model://becket_model/meshes/europallet.dae</uri>\n",
    "            <scale>1 1 1</scale>\n",
    "          </mesh>\n",
    "        </geometry>\n",
    "        <material>\n",
    "          <lighting>1</lighting>\n",
    "          <script>\n",
    "            <uri>model://becket_model/materials/scripts</uri>\n",
    "            <uri>model://becket_model/materials/textures</uri>\n",
    "            <name>becket_model/Diffuse</name>\n",
    "          </script>\n",
    "          <ambient>0.3 0.3 0.3 1</ambient>\n",
    "          <diffuse>0.7 0.7 0.7 1</diffuse>\n",
    "          <specular>0.01 0.01 0.01 1</specular>\n",
    "          <emissive>0 0 0 1</emissive>\n",
    "          <shader type='vertex'>\n",
    "            <normal_map>__default__</normal_map>\n",
    "          </shader>\n",
    "        </material>\n",
    "        <cast_shadows>1</cast_shadows>\n",
    "        <transparency>0</transparency>\n",
    "      </visual>"
   ]
  },
  {
   "cell_type": "markdown",
   "metadata": {},
   "source": [
    "Code 2.12: < scripts > tag to link the .dae file with its texture."
   ]
  },
  {
   "cell_type": "code",
   "execution_count": null,
   "metadata": {},
   "outputs": [],
   "source": [
    "material becket_model/Diffuse\n",
    "{\n",
    "\ttechnique\n",
    "\t{\n",
    "\t\tpass\n",
    "\t\t{\n",
    "\t\t\ttexture_unit\n",
    "\t\t\t{\n",
    "\t\t\t\ttexture EuroPallet_Wood.jpg\n",
    "\t\t\t}\n",
    "\t\t}\n",
    "\t}\n",
    "}\n",
    "\n"
   ]
  },
  {
   "cell_type": "markdown",
   "metadata": {},
   "source": [
    "Code 2.13: becket.material file"
   ]
  },
  {
   "cell_type": "markdown",
   "metadata": {},
   "source": [
    "The chip bin and the europallet CADs have been downloaded from https://free3d.com/it/3d-models/pallet in the stl format and, as before, reworked in Blender for the same reasons, see figure 2.16. Next, the .dae file is used in the model.sdf file to represent the appearance."
   ]
  },
  {
   "cell_type": "markdown",
   "metadata": {},
   "source": [
    "<img src=\"images/chip_bins_full_empty_blender.png\" width=\"700\" />"
   ]
  },
  {
   "cell_type": "markdown",
   "metadata": {},
   "source": [
    "Figure 2.16: Chip bins and pallet reworked in Blender."
   ]
  },
  {
   "cell_type": "code",
   "execution_count": null,
   "metadata": {},
   "outputs": [],
   "source": [
    "<?xml version=\"1.0\" ?>\n",
    "<model>\n",
    "    <name>becket_model</name>\n",
    "    <version>1.0</version>\n",
    "    <sdf version=\"1.6\">model.sdf</sdf>\n",
    "    <author>\n",
    "        <name>Salvatore Volpe</name>\n",
    "        <email>salvatore.volpe@mtmt.it</email>\n",
    "    </author>\n",
    "    <description></description>\n",
    "</model>"
   ]
  },
  {
   "cell_type": "markdown",
   "metadata": {},
   "source": [
    "Code 2.14: model.config file"
   ]
  },
  {
   "cell_type": "code",
   "execution_count": null,
   "metadata": {},
   "outputs": [],
   "source": [
    "<?xml version='1.0'?>\n",
    "<sdf version='1.6'>\n",
    "  <model name='becket_model'>\n",
    "    <link name='link_0'>\n",
    "      <pose frame=''>0 0 0.0 0 -0 0.0</pose>\n",
    "      <inertial>\n",
    "         <mass>10</mass>\n",
    "        <inertia>\n",
    "          <ixx>0.166667</ixx>\n",
    "          <ixy>0</ixy>\n",
    "          <ixz>0</ixz>\n",
    "          <iyy>0.166667</iyy>\n",
    "          <iyz>0</iyz>\n",
    "          <izz>0.166667</izz>\n",
    "        </inertia>\n",
    "        <pose frame=''>0 0 0 0 -0 0</pose>\n",
    "      </inertial>\n",
    "      <gravity>1</gravity>\n",
    "      <self_collide>0</self_collide>\n",
    "      <kinematic>0</kinematic>\n",
    "\n",
    "\n",
    "    <!-- start becket and europallet definitions -->\n",
    "\n",
    "      <visual name='becket'>\n",
    "        <pose frame=''>0 0 0.0 0 0 1.57</pose>\n",
    "        <geometry>\n",
    "          <mesh>\n",
    "\t\t        <uri>model://becket_model/meshes/becket.dae</uri>\n",
    "            <scale>1 1 1</scale>\n",
    "          </mesh>\n",
    "        </geometry>\n",
    "        <!--material>\n",
    "          <lighting>1</lighting>\n",
    "\n",
    "          <ambient>0.3 0.3 0.3 1</ambient>\n",
    "          <diffuse>0.7 0.7 0.7 1</diffuse>\n",
    "          <specular>0.01 0.01 0.01 1</specular>\n",
    "          <emissive>0 0 0 1</emissive>\n",
    "          <shader type='vertex'>\n",
    "            <normal_map>__default__</normal_map>\n",
    "          </shader>\n",
    "        </material-->\n",
    "        <cast_shadows>1</cast_shadows>\n",
    "        <transparency>0</transparency>\n",
    "      </visual>\n",
    "\n",
    "\n",
    "      <visual name='europallet'>\n",
    "        <pose frame=''>0 0.010 0 0 0 1.57</pose>\n",
    "        <geometry>\n",
    "          <mesh>\n",
    "\t\t<uri>model://becket_model/meshes/europallet.dae</uri>\n",
    "            <scale>1 1 1</scale>\n",
    "          </mesh>\n",
    "        </geometry>\n",
    "        <material>\n",
    "          <lighting>1</lighting>\n",
    "          <script>\n",
    "            <uri>model://becket_model/materials/scripts</uri>\n",
    "            <uri>model://becket_model/materials/textures</uri>\n",
    "            <name>becket_model/Diffuse</name>\n",
    "          </script>\n",
    "          <ambient>0.3 0.3 0.3 1</ambient>\n",
    "          <diffuse>0.7 0.7 0.7 1</diffuse>\n",
    "          <specular>0.01 0.01 0.01 1</specular>\n",
    "          <emissive>0 0 0 1</emissive>\n",
    "          <shader type='vertex'>\n",
    "            <normal_map>__default__</normal_map>\n",
    "          </shader>\n",
    "        </material>\n",
    "        <cast_shadows>1</cast_shadows>\n",
    "        <transparency>0</transparency>\n",
    "      </visual>\n",
    "\n",
    "  \n",
    "      <collision name='collision0'>\n",
    "        <laser_retro>0</laser_retro>\n",
    "        <max_contacts>10</max_contacts>\n",
    "        <pose frame=''>0.0 0.0 0.1 0.0 0.0 0.0</pose>\n",
    "        <geometry>\n",
    "          <box>\n",
    "            <size>1.2 0.80 0.04</size>\n",
    "          </box>\n",
    "        </geometry>\n",
    "      </collision>   \n",
    "    \n",
    "      <collision name='collision1'>\n",
    "        <laser_retro>0</laser_retro>\n",
    "        <max_contacts>5</max_contacts>\n",
    "        <pose frame='link_0'>0 -0.04 0.03 0 0 0</pose>\n",
    "        <geometry>\n",
    "          <box>\n",
    "             <size>1.0 0.03 0.1</size>\n",
    "          </box>\n",
    "        </geometry>\n",
    "      </collision>\n",
    "\n",
    "     <collision name='collision2'>\n",
    "        <laser_retro>0</laser_retro>\n",
    "        <max_contacts>5</max_contacts>\n",
    "       <pose frame='link_0'>0 0.04 0.03 0 0 0</pose>\n",
    "        <geometry>\n",
    "          <box>\n",
    "            <size>1.0 0.03 0.1</size>\n",
    "          </box>\n",
    "        </geometry>\n",
    "      </collision>    \n",
    "\n",
    "      <collision name='collision3'>\n",
    "        <laser_retro>0</laser_retro>\n",
    "        <max_contacts>5</max_contacts>\n",
    "        <pose frame='link_0'>0 0.38 0.03 0 0 0</pose>\n",
    "        <geometry>\n",
    "          <box>\n",
    "            <size>1.0 0.03 0.1</size>\n",
    "          </box>\n",
    "        </geometry>\n",
    "      </collision>\n",
    "\n",
    "      <collision name='collision4'>\n",
    "        <laser_retro>0</laser_retro>\n",
    "        <max_contacts>5</max_contacts>\n",
    "        <pose frame='link_0'>0 -0.38 0.03 0 -0 0</pose>\n",
    "        <geometry>\n",
    "          <box>\n",
    "            <size>1.0 0.03 0.1</size>\n",
    "          </box>\n",
    "        </geometry>\n",
    "      </collision>\n",
    "    </link>\n",
    "\n",
    "  <!-- end becket and europallet definitions -->\n",
    "\n",
    "    \n",
    "     <!-- start reflectors definitions -->\n",
    "\n",
    "    <link name='link_reflector_1'>\n",
    "      <pose frame='link_0'>0.6 -0.35 0.05 0 0 0</pose>\n",
    "      <gravity>0</gravity>\n",
    "\n",
    "      <visual name='visual0'>\n",
    "        <pose frame=''>0 0 0.0 0 0 0</pose>\n",
    "        <geometry>\n",
    "          <box><size>0.005 0.05 0.1</size></box>\n",
    "        </geometry>\n",
    "\t<material>\n",
    "          <lighting>1</lighting>\n",
    "          <ambient>0.3 0.3 0.3 1</ambient>\n",
    "          <diffuse>0.7 0.7 0.7 1</diffuse>\n",
    "          <specular>0.01 0.01 0.01 1</specular>\n",
    "          <emissive>0 0 0 1</emissive>\n",
    "          <shader type='vertex'>\n",
    "            <normal_map>__default__</normal_map>\n",
    "          </shader>\n",
    "        </material>\n",
    "      </visual>\n",
    "      <collision name='collision0'>\n",
    "        <pose frame=''>0 0 -0.0 0 -0 0</pose>\n",
    "        <geometry>\n",
    "          <box><size>0.005 0.05 0.10</size></box>\n",
    "        </geometry>\n",
    "\t<laser_retro>8000</laser_retro>\n",
    "      </collision>\n",
    "    </link>\n",
    "    \n",
    "    <link name='link_reflector_2'>\n",
    "      <pose frame='link_0'>0.6 0.35 0.05 0 0 0</pose>\n",
    "      <gravity>0</gravity>\n",
    "\n",
    "      <visual name='visual0'>\n",
    "        <pose frame=''>0 0 -0.0 0 -0 0</pose>\n",
    "        <geometry>\n",
    "           <box><size>0.005 0.05 0.1</size></box>\n",
    "        </geometry>\n",
    "\t<material>\n",
    "          <lighting>1</lighting>\n",
    "          <ambient>0.3 0.3 0.3 1</ambient>\n",
    "          <diffuse>0.7 0.7 0.7 1</diffuse>\n",
    "          <specular>0.01 0.01 0.01 1</specular>\n",
    "          <emissive>0 0 0 1</emissive>\n",
    "          <shader type='vertex'>\n",
    "            <normal_map>__default__</normal_map>\n",
    "          </shader>\n",
    "        </material>\n",
    "      </visual>\n",
    "      <collision name='collision0'>\n",
    "        <pose frame=''>0 0 -0.0 0 -0 0</pose>\n",
    "        <geometry>\n",
    "          <box><size>0.005 0.05 0.10</size></box>\n",
    "        </geometry>\n",
    "\t<laser_retro>8000</laser_retro>\n",
    "      </collision>\n",
    "    </link>\n",
    "\n",
    "    <link name='link_reflector_3'>\n",
    "       <pose frame='link_0'>-0.6 0.35 0.05 0 0 0</pose>\n",
    "      <gravity>0</gravity>\n",
    "\n",
    "      <visual name='visual0'>\n",
    "        <pose frame=''>0 0 -0.0 0 -0 0</pose>\n",
    "        <geometry>\n",
    "         <box><size>0.005 0.05 0.1</size></box>\n",
    "        </geometry>\n",
    "\t<material>\n",
    "          <lighting>1</lighting>\n",
    "          <ambient>0.3 0.3 0.3 1</ambient>\n",
    "          <diffuse>0.7 0.7 0.7 1</diffuse>\n",
    "          <specular>0.01 0.01 0.01 1</specular>\n",
    "          <emissive>0 0 0 1</emissive>\n",
    "          <shader type='vertex'>\n",
    "            <normal_map>__default__</normal_map>\n",
    "          </shader>\n",
    "        </material>\n",
    "      </visual>\n",
    "      <collision name='collision0'>\n",
    "        <pose frame=''>0 0 -0.0 0 -0 0</pose>\n",
    "        <geometry>\n",
    "          <box><size>0.005 0.05 0.10</size></box>\n",
    "        </geometry>\n",
    "\t<laser_retro>8000</laser_retro>\n",
    "      </collision>\n",
    "    </link>\n",
    "    \n",
    "    <link name='link_reflector_4'>\n",
    "      <pose frame='link_0'>-0.6 -0.35 0.05 0 0 0</pose>\n",
    "      <gravity>0</gravity>\n",
    "\n",
    "      <visual name='visual0'>\n",
    "        <pose frame=''>0 0 -0.0 0 -0 0</pose>\n",
    "        <geometry>\n",
    "          <box><size>0.005 0.05 0.1</size></box>\n",
    "        </geometry>\n",
    "\t<material>\n",
    "          <lighting>1</lighting>\n",
    "          <ambient>0.3 0.3 0.3 1</ambient>\n",
    "          <diffuse>0.7 0.7 0.7 1</diffuse>\n",
    "          <specular>0.01 0.01 0.01 1</specular>\n",
    "          <emissive>0 0 0 1</emissive>\n",
    "          <shader type='vertex'>\n",
    "            <normal_map>__default__</normal_map>\n",
    "          </shader>\n",
    "        </material>\n",
    "      </visual>\n",
    "      <collision name='collision0'>\n",
    "        <pose frame=''>0 0 -0.0 0 -0 0</pose>\n",
    "        <geometry>\n",
    "          <box><size>0.005 0.05 0.10</size></box>\n",
    "        </geometry>\n",
    "\t<laser_retro>8000</laser_retro>\n",
    "      </collision>\n",
    "    </link>\n",
    "\n",
    "    \n",
    "\n",
    "    <joint name='joint_0_to_reflector_1' type='fixed'>\n",
    "      <parent>link_0</parent>\n",
    "      <child>link_reflector_1</child>\n",
    "      <pose frame=''>0 0 0 0 -0 0</pose>\n",
    "      <physics>\n",
    "        <ode>\n",
    "          <limit>\n",
    "            <cfm>0</cfm>\n",
    "            <erp>0.2</erp>\n",
    "          </limit>\n",
    "          <suspension>\n",
    "            <cfm>0</cfm>\n",
    "            <erp>0.2</erp>\n",
    "          </suspension>\n",
    "        </ode>\n",
    "      </physics>\n",
    "    </joint>\n",
    "    <joint name='joint_0_to_reflector_2' type='fixed'>\n",
    "      <parent>link_0</parent>\n",
    "      <child>link_reflector_2</child>\n",
    "      <pose frame=''>0 0 0 0 -0 0</pose>\n",
    "      <physics>\n",
    "        <ode>\n",
    "          <limit>\n",
    "            <cfm>0</cfm>\n",
    "            <erp>0.2</erp>\n",
    "          </limit>\n",
    "          <suspension>\n",
    "            <cfm>0</cfm>\n",
    "            <erp>0.2</erp>\n",
    "          </suspension>\n",
    "        </ode>\n",
    "      </physics>\n",
    "    </joint>\n",
    "    <joint name='joint_0_to_reflector_3' type='fixed'>\n",
    "      <parent>link_0</parent>\n",
    "      <child>link_reflector_3</child>\n",
    "      <pose frame=''>0 0 0 0 -0 0</pose>\n",
    "      <physics>\n",
    "        <ode>\n",
    "          <limit>\n",
    "            <cfm>0</cfm>\n",
    "            <erp>0.2</erp>\n",
    "          </limit>\n",
    "          <suspension>\n",
    "            <cfm>0</cfm>\n",
    "            <erp>0.2</erp>\n",
    "          </suspension>\n",
    "        </ode>\n",
    "      </physics>\n",
    "    </joint>\n",
    "    <joint name='joint_0_to_reflector_4' type='fixed'>\n",
    "      <parent>link_0</parent>\n",
    "      <child>link_reflector_4</child>\n",
    "      <pose frame=''>0 0 0 0 -0 0</pose>\n",
    "      <physics>\n",
    "        <ode>\n",
    "          <limit>\n",
    "            <cfm>0</cfm>\n",
    "            <erp>0.2</erp>\n",
    "          </limit>\n",
    "          <suspension>\n",
    "            <cfm>0</cfm>\n",
    "            <erp>0.2</erp>\n",
    "          </suspension>\n",
    "        </ode>\n",
    "      </physics>\n",
    "    </joint>\n",
    "\n",
    "    <static>0</static>\n",
    "    <allow_auto_disable>1</allow_auto_disable>\n",
    "  </model>\n",
    "</sdf>\n"
   ]
  },
  {
   "cell_type": "markdown",
   "metadata": {},
   "source": [
    "Code 2.15: model.sdf"
   ]
  },
  {
   "cell_type": "markdown",
   "metadata": {},
   "source": [
    "[Go to top](#Autonomous-Mobile-Robot-Pallet-Truck-inside-a-Smart-Factory)"
   ]
  },
  {
   "cell_type": "markdown",
   "metadata": {},
   "source": [
    "### 3. Navigation"
   ]
  },
  {
   "cell_type": "markdown",
   "metadata": {},
   "source": [
    "In order for the AMR to navigate with ROS it must first create a map of the environment in which the AMR will move. The creation of the map, i.e. the **mapping**, is done using the front laser, set in the urdf file. Next, it needs to find the **location** of the AMR within the map, this process is known as localization. It often talks about **SLAM** (Simultaneous Localization And Mapping), i.e. the two processes together. Once done, it can set up the **navigation stack** which plans a route between a start point and an end point while avoiding both stationary and moving obstacles. \n",
    "\n",
    "In short, navigation takes place via the **move_base node** which moves the AMR by imposing velocity commands knowing the position of the target and other information as shown in figure 3.1."
   ]
  },
  {
   "cell_type": "markdown",
   "metadata": {},
   "source": [
    "<img src=\"images/navigation_stack_simple.png\" width=\"700\" />"
   ]
  },
  {
   "cell_type": "markdown",
   "metadata": {},
   "source": [
    "Figure 3.1.: navigation stack simple scheme."
   ]
  },
  {
   "cell_type": "markdown",
   "metadata": {},
   "source": [
    "[Go to top](#Autonomous-Mobile-Robot-Pallet-Truck-inside-a-Smart-Factory)"
   ]
  },
  {
   "cell_type": "markdown",
   "metadata": {},
   "source": [
    "### 3.1 amr_mapping"
   ]
  },
  {
   "cell_type": "markdown",
   "metadata": {},
   "source": [
    "As just mentioned before, to use the navigation stack, it must first create a map. To achieve this, the **gmapping package** is is available. The ROS gmapping package is an implementation of a specific SLAM algorithm called **gmapping**.\n",
    "In this implementation the gmapping runs on the **amr_mapping package** that has the following structure:\n",
    "\n",
    "- launch\n",
    "   - mapping.launch\n",
    "   - provide_map.launch\n",
    "- maps\n",
    "    - mechanical_workshop_map.pgm\n",
    "    - mechanical_workshop_map.yaml\n",
    "- params\n",
    "    - mapping_params.yaml\n",
    "- src\n",
    "- CMaleLists.txt\n",
    "- package.xml"
   ]
  },
  {
   "cell_type": "markdown",
   "metadata": {},
   "source": [
    "The algorithm runs the **slam_gmapping node** which allows to create a 2-D occupancy grid map (OGM) using laser readings, subscribing to **/front_scan** topic, and odometry pose data, subscribing to **/tf** topic, as input data as the AMR moves through the machine shop environment. To do this, it needs to set up the laser and odometry, from base_footprint and odom frame, respectively in the **mapping.launch** and **mapping_params.yaml** files below."
   ]
  },
  {
   "cell_type": "code",
   "execution_count": null,
   "metadata": {},
   "outputs": [],
   "source": [
    "\n",
    "     base_frame : \"base_footprint\"\n",
    "     odom_frame : \"odom\"   \n",
    "     scan_topic : \"front_scan\"   \n",
    "     map_update_interval : 5.0\n",
    "     maxRange : 8.0 \n",
    "     sigma : 0.05 \n",
    "     kernelSize : 1 \n",
    "     lstep : 0.05 \n",
    "     astep : 0.05 \n",
    "     iterations : 5 \n",
    "     lsigma : 0.075 \n",
    "     ogain : 3.0 \n",
    "     lskip : 0 \n",
    "     minimumScore : 200 \n",
    "     srr : 0.01 \n",
    "     srt : 0.02 \n",
    "     str : 0.01 \n",
    "     stt : 0.02 \n",
    "     linearUpdate : 0.5 \n",
    "     angularUpdate : 0.436 \n",
    "     temporalUpdate : -1.0 \n",
    "     resampleThreshold : 0.5 \n",
    "     particles : 80 \n",
    "     xmin : -10.0\n",
    "     ymin : -10.0\n",
    "     xmax : 10.0\n",
    "     ymax : 10.0\n",
    "     delta : 0.05 \n",
    "     llsamplerange : 0.01 \n",
    "     llsamplestep : 0.01 \n",
    "     lasamplerange : 0.005 \n",
    "     lasamplestepvalue : 0.005 \n",
    "     "
   ]
  },
  {
   "cell_type": "markdown",
   "metadata": {},
   "source": [
    "Code 3.1: mapping_params.yaml file"
   ]
  },
  {
   "cell_type": "code",
   "execution_count": null,
   "metadata": {},
   "outputs": [],
   "source": [
    "<launch>     \n",
    "     <node pkg=\"gmapping\" type=\"slam_gmapping\" name=\"slam_gmapping\" output=\"screen\">\n",
    "     <rosparam file=\"$(find amr_mapping)/params/mapping_params.yaml\" command=\"load\"/> \\\n",
    "     <remap from=\"/scan\" to=\"/front_scan\" />\n",
    "   \n",
    "  </node>\n",
    "</launch>"
   ]
  },
  {
   "cell_type": "markdown",
   "metadata": {},
   "source": [
    "Code 3.2: mapping.launch file"
   ]
  },
  {
   "cell_type": "markdown",
   "metadata": {},
   "source": [
    "During the mapping process the slam_mapping node publishes the map in the **/map** topic so that it possible to visualize in RViz as showm in figure 3.2."
   ]
  },
  {
   "cell_type": "markdown",
   "metadata": {},
   "source": [
    "<img src=\"images/mapping.png\" width=\"700\" />"
   ]
  },
  {
   "cell_type": "markdown",
   "metadata": {},
   "source": [
    "Figure 3.2: mapping process of the mechanical workshop.\n"
   ]
  },
  {
   "cell_type": "markdown",
   "metadata": {},
   "source": [
    "The /map topic uses a message type of nav_msgs/OccupancyGrid, since it is an OGM. Occupancy is represented as an integer in the range {0, 100}. Cells with a number greater than 0.65 are occupied and those with a number less than 0.196 are free. The Map data is stored in the mechanical_workshop_map.yaml and mechanical_workshop_map.pgm files created inside the map folder as follows:"
   ]
  },
  {
   "cell_type": "code",
   "execution_count": null,
   "metadata": {},
   "outputs": [],
   "source": [
    "cd catkin_ws/src/amr_mapping/maps/\n",
    "~/catkin_ws/src/amr_mapping/maps$ rosrun map_server map_saver -f mechanical_workshop_map"
   ]
  },
  {
   "cell_type": "code",
   "execution_count": null,
   "metadata": {},
   "outputs": [],
   "source": [
    "image: mechanical_workshop_map.pgm\n",
    "resolution: 0.050000\n",
    "origin: [-10.000000, -21.200000, 0.000000]\n",
    "negate: 0\n",
    "occupied_thresh: 0.65\n",
    "free_thresh: 0.196\n",
    "\n",
    "# image : Path to the image file containing the occupancy data; can be absolute, or relative to the location of the YAML file\n",
    "# resolution : Resolution of the map, meters / pixel\n",
    "# origin : The 2-D pose of the lower-left pixel in the map, as (x, y, yaw), with yaw as counterclockwise rotation (yaw=0 means no rotation). Many parts of the system currently ignore yaw.\n",
    "# occupied_thresh : Pixels with occupancy probability greater than this threshold are considered completely occupied.\n",
    "# free_thresh : Pixels with occupancy probability less than this threshold are considered completely free.\n",
    "# negate : Whether the white/black free/occupied semantics should be reversed (interpretation of thresholds is unaffected) "
   ]
  },
  {
   "cell_type": "markdown",
   "metadata": {},
   "source": [
    "Code 3.3: mechanical_workshop_map.yaml"
   ]
  },
  {
   "cell_type": "markdown",
   "metadata": {},
   "source": [
    "<img src=\"images/map.png\" width=\"700\" />"
   ]
  },
  {
   "cell_type": "markdown",
   "metadata": {},
   "source": [
    "Figure 3.2: mechanical_workshop_map.pgm file"
   ]
  },
  {
   "cell_type": "markdown",
   "metadata": {},
   "source": [
    "[Go to top](#Autonomous-Mobile-Robot-Pallet-Truck-inside-a-Smart-Factory)"
   ]
  },
  {
   "cell_type": "markdown",
   "metadata": {},
   "source": [
    "### 3.2 amr_localization"
   ]
  },
  {
   "cell_type": "markdown",
   "metadata": {},
   "source": [
    "The **amr_localization package** provides to estimate the pose of the AMR using the **fixed** sensor readings. Setting LaserScan, Map display and PoseArray Display is possible to visualize the localization (pose) of the AMR."
   ]
  },
  {
   "cell_type": "markdown",
   "metadata": {},
   "source": [
    "<img src=\"images/amcl.png\" width=\"700\" />"
   ]
  },
  {
   "cell_type": "markdown",
   "metadata": {
    "collapsed": true
   },
   "source": [
    "Figure 3.3: amcl algorithm. Arrows inside the purple circle are the output of the amcl."
   ]
  },
  {
   "cell_type": "markdown",
   "metadata": {},
   "source": [
    "In this package runs the **amcl node** (Adaptive Monte Carlo Localization) which uses the MCL system in order to track the localization of the AMR moving in a 2D space. This node subscribes to the **/front_laser** topic, the **/map** topic, and the **/tf** topic, and publishes its estimated position (particles i.e. future poses) in to the **/amcl_pose** and the **/particlecloud** topic that is usefull to visualize the arrows in RViz, figure 17. On startup, the amcl node initializes its particle filter according to the parameters provided and with **/initialpose** topic. "
   ]
  },
  {
   "cell_type": "markdown",
   "metadata": {},
   "source": [
    "The structure of the amr_localization package is:\n",
    "- launch\n",
    "  - amcl.launch\n",
    "  - initialpose.launch\n",
    "  - map_warehouse_service_server.launch\n",
    "  - record_poi_server.launch\n",
    "- params\n",
    "  - amr_localization_params.yaml\n",
    "- rviz_config\n",
    "  - rviz_config.rviz\n",
    "- src\n",
    "  - scripts\n",
    "     - amr_initialpose.py\n",
    "     - poi.yaml\n",
    "     - record_poi_server.py\n",
    "- srv\n",
    "  - Poi_message.srv\n",
    "- CMakeLists.txt\n",
    "- package.xml  \n"
   ]
  },
  {
   "cell_type": "markdown",
   "metadata": {},
   "source": [
    "[Go to top](#Autonomous-Mobile-Robot-Pallet-Truck-inside-a-Smart-Factory)"
   ]
  },
  {
   "cell_type": "markdown",
   "metadata": {},
   "source": [
    "### 3.3 amr_navigation"
   ]
  },
  {
   "cell_type": "markdown",
   "metadata": {},
   "source": [
    "The Navigation Stack is a set of ROS nodes and algorithms which are used to autonomously move a robot from one point to another, avoiding all obstacles. "
   ]
  },
  {
   "cell_type": "markdown",
   "metadata": {},
   "source": [
    "<img src=\"images/navigation_stack.png\" width=\"700\" />"
   ]
  },
  {
   "cell_type": "markdown",
   "metadata": {},
   "source": [
    "Figure 3.4: Navigation stack diagram  (figure from ROS Wiki)."
   ]
  },
  {
   "cell_type": "markdown",
   "metadata": {},
   "source": [
    "The amr_navigation package contains the **move_base node** that implements an action server that provides to move to the different possible goal positions:\n",
    "- to a cnc_machines;\n",
    "- to home;\n",
    "- to full/empty chip bins;\n",
    "- to recycling place.\n",
    "\n",
    "The goal positions are sent through the web panel, see code 3.4 and 3.5, to the GoToPoint server (main_navigation_node) that communicates the relative pose to the move_base node, figure 3.5."
   ]
  },
  {
   "cell_type": "code",
   "execution_count": null,
   "metadata": {},
   "outputs": [],
   "source": [
    "// calling go_to_point service\n",
    "callingGotoClients = (request) => {\n",
    "    var gotoClient = new ROSLIB.Service({\n",
    "        ros: this.props.ros,\n",
    "        name : '/go_to_point',\n",
    "        serviceType : 'amr_localization/Poi_message'\n",
    "    });\n",
    "\n",
    "    gotoClient.callService(request, function(result) {\n",
    "\n",
    "    });\n",
    "}"
   ]
  },
  {
   "cell_type": "markdown",
   "metadata": {},
   "source": [
    "Code 3.4: set up the call to /go_to_point with goal position message."
   ]
  },
  {
   "cell_type": "code",
   "execution_count": null,
   "metadata": {},
   "outputs": [],
   "source": [
    "// call service go_to_point to go to empty_bin\n",
    "startTask = () => {\n",
    "    var request = new ROSLIB.ServiceRequest({\n",
    "        label: 'load_area_bin_2',            \n",
    "    });\n",
    "    this.props.callingGotoClients(request)\n",
    "    console.log(\"load_area_bin_2\")\n",
    "}"
   ]
  },
  {
   "cell_type": "markdown",
   "metadata": {},
   "source": [
    "Code 3.5: call the /go_to_point server."
   ]
  },
  {
   "cell_type": "markdown",
   "metadata": {},
   "source": [
    "<img src=\"images/go_to_point.png\" width=\"700\" />"
   ]
  },
  {
   "cell_type": "markdown",
   "metadata": {},
   "source": [
    "Figure 3.5: communication between: move_base, main_navigation node and web page."
   ]
  },
  {
   "cell_type": "markdown",
   "metadata": {},
   "source": [
    "The structure of the amr_navigation package is:\n",
    "- config\n",
    "  - constmap_common,yaml\n",
    "  - costmap_exploration.yaml\n",
    "  - costmap_global_laser.yaml\n",
    "  - costmap_global_static.yaml\n",
    "  - costmap_local.yaml\n",
    "- launch\n",
    "  - amr_urdf_visualize.launch\n",
    "  - main.launch\n",
    "  - navigation.launch\n",
    "- params\n",
    "  - amr_move_base_params.yaml\n",
    "- rviz_config\n",
    "  - rviz_config.rviz\n",
    "- src\n",
    "  - scripts\n",
    "     - go_to_point_action_clients.py\n",
    "     - main_navigation.py\n",
    "- CMakeLists.txt\n",
    "- package.xml  \n",
    "  \n",
    "  \n",
    "  \n",
    "  \n",
    "  \n",
    "  \n",
    "\n",
    "  \n",
    "  \n"
   ]
  },
  {
   "cell_type": "markdown",
   "metadata": {},
   "source": [
    "[Go to top](#Autonomous-Mobile-Robot-Pallet-Truck-inside-a-Smart-Factory)"
   ]
  },
  {
   "cell_type": "markdown",
   "metadata": {},
   "source": [
    "#### Global planner\n",
    "The move_base node sends the goal pose to the **Navfn global planner** to calculate the shortest path from the current position to the goal position using Dijkstra's algorithm. This path is calculated before the AMR starts moving, so that it will take into account only the **global costmap**. The global cost map is created from the static map and is shown in figure 3.6."
   ]
  },
  {
   "cell_type": "markdown",
   "metadata": {},
   "source": [
    "<img src=\"images/costmap_global.png\" width=\"700\" />"
   ]
  },
  {
   "cell_type": "markdown",
   "metadata": {},
   "source": [
    "Figure 3.6: Global costmap of the mechanical workshop."
   ]
  },
  {
   "cell_type": "markdown",
   "metadata": {},
   "source": [
    "Main parameters set in costmap_common.yaml"
   ]
  },
  {
   "cell_type": "code",
   "execution_count": null,
   "metadata": {},
   "outputs": [],
   "source": [
    "footprint: [[0.30, -0.60], [-1.5, -0.60], [-1.5, 0.60], [0.30, 0.60]]\n",
    "footprint_padding: 0.01 # default value: 0.01\n",
    "\n",
    "robot_base_frame: \"base_link\"\n",
    "update_frequency: 4.0\n",
    "publish_frequency: 3.0\n",
    "transform_tolerance: 0.5\n",
    "\n",
    "resolution: 0.01\n",
    "\n",
    "#layer definitions\n",
    "static:\n",
    "    map_topic: /map\n",
    "    subscribe_to_updates: true\n",
    "\n",
    "raytrace_range: 3.0\n",
    "\n",
    "obstacles_laser:\n",
    "    observation_sources: front_laser    \n",
    "    front_laser: {data_type: LaserScan, clearing: true, marking: true, topic: front_scan, inf_is_valid: true, obstacle_range: 5.5}\n",
    "   \n",
    "inflation:\n",
    "    inflation_radius: 2"
   ]
  },
  {
   "cell_type": "markdown",
   "metadata": {},
   "source": [
    "Code 3.6: parametes of costmap_common.yaml"
   ]
  },
  {
   "cell_type": "markdown",
   "metadata": {},
   "source": [
    "#### Local planner\n",
    "\n",
    "The Navfn global planner sent to the DWA (Dynamic Window Approach algorithm) local planner the calculated path to follow.  Then, the local planner executes each segment of the global plan providing velocity commands in order to move the AMR.\n",
    "\n",
    "The DWA local planner uses the local costmap in order to calculate the local path. The local costmap is  created directly from the AMR's front laser subscribing to **/front_scan**. In this way the AMR can avoid the obstacles."
   ]
  },
  {
   "cell_type": "markdown",
   "metadata": {},
   "source": [
    "Main parameters set in costmap_global_static.yaml"
   ]
  },
  {
   "cell_type": "code",
   "execution_count": null,
   "metadata": {},
   "outputs": [],
   "source": [
    "global_frame: map\n",
    "rolling_window: false\n",
    "static_map: true\n",
    "\n",
    "plugins:\n",
    "\n",
    "  - {name: static,                  type: \"costmap_2d::StaticLayer\"} # Used to initialize the costmap from a static map.\n",
    "  - {name: obstacles_laser,         type: \"costmap_2d::VoxelLayer\"} # Used to add the obstacle sees from laser to the static map\n",
    "  - {name: inflation,               type: \"costmap_2d::InflationLayer\"} #  Used to inflate obstacles."
   ]
  },
  {
   "cell_type": "markdown",
   "metadata": {},
   "source": [
    "Code 3.7: parametes of costmap_global_static.yaml"
   ]
  },
  {
   "cell_type": "markdown",
   "metadata": {},
   "source": [
    "[Go to top](#Autonomous-Mobile-Robot-Pallet-Truck-inside-a-Smart-Factory)"
   ]
  },
  {
   "cell_type": "markdown",
   "metadata": {},
   "source": [
    "<img src=\"images/costmap_local.png\" width=\"700\" />"
   ]
  },
  {
   "cell_type": "markdown",
   "metadata": {},
   "source": [
    "Figure 3.7: Local costmap of the mechanical workshop."
   ]
  },
  {
   "cell_type": "code",
   "execution_count": null,
   "metadata": {},
   "outputs": [],
   "source": []
  },
  {
   "cell_type": "markdown",
   "metadata": {},
   "source": [
    "Main parameters set in costmap_local.yaml"
   ]
  },
  {
   "cell_type": "code",
   "execution_count": null,
   "metadata": {},
   "outputs": [],
   "source": [
    "global_frame: odom\n",
    "rolling_window: true\n",
    "\n",
    "inflation:\n",
    "    inflation_radius: 0.85\n",
    "    cost_scaling_factor: 10\n",
    "  \n",
    "plugins:\n",
    "  - {name: obstacles_laser,           type: \"costmap_2d::ObstacleLayer\"} \n",
    "  - {name: inflation,                 type: \"costmap_2d::InflationLayer\"}\n",
    "\n",
    "  "
   ]
  },
  {
   "cell_type": "markdown",
   "metadata": {},
   "source": [
    "[Go to top](#Autonomous-Mobile-Robot-Pallet-Truck-inside-a-Smart-Factory)"
   ]
  },
  {
   "cell_type": "markdown",
   "metadata": {},
   "source": [
    "### 4. Chip bin management"
   ]
  },
  {
   "cell_type": "markdown",
   "metadata": {},
   "source": [
    "The chip bin management regards the cycle in which the AMR provides to substitute the full chip bin with the empty chip bin. To achive this goal the AMR has to perform the following actions:\n",
    "- detecting the bin\n",
    "- hooking the bin\n",
    "- disengaging the bin"
   ]
  },
  {
   "cell_type": "markdown",
   "metadata": {},
   "source": [
    "#### 4.1 amr_detection"
   ]
  },
  {
   "cell_type": "markdown",
   "metadata": {},
   "source": [
    "The **amr_detection package** launches the **detect_europallet_node** in which runs the algorithm implemented in the **europallet_detection.py** file, see the structure package below. \n",
    "\n",
    "\n",
    "This algorithm, using the rear laser (/rear_scan), provides to stage the detection phase that it is articulated in the following steps:\n",
    "- finding the reflector points at hight reflection intesities (8000);\n",
    "- dividing the point in two **Lists**: right reflector and left reflector;\n",
    "- calculating the average value in both Lists to find the left and the right reflectors;\n",
    "- calculating the distances between the reflectors and the rear laser;\n",
    "- calculating the angles of the beams which identifies the reflectors;\n",
    "- using Carnot theorem to calculate the correction angle;\n",
    "- calculating the orientation qc and creates a middle frame **ep_frame**, in respect to the rear laser frame, that has the x axis contained in the longitudinal plane of the bin;\n",
    "- creating a shifted frame **sep_frame** in respect to ep_frame (figure 4.1); \n",
    "- transforming the ep_frame and sep_frame from **rear_laserscanner_link** frame to the **odom** frame;\n"
   ]
  },
  {
   "cell_type": "markdown",
   "metadata": {},
   "source": [
    "The structure of the amr_detection package is:\n",
    "- launch\n",
    "  - europallet_detect_service_client.launch\n",
    "  - europallet_detect_service_server.launch\n",
    "- src \n",
    "  - amr_detection\n",
    "    - _ _ init _ _.py\n",
    "    - europallet_detection.py\n",
    "    - europallet_detector_client.py\n",
    "    - europallet_detector_server.py\n",
    "- srv\n",
    "   - Pose_message.srv\n",
    "- CMakeLists.txt\n",
    "- package.xml\n",
    "- setup.py"
   ]
  },
  {
   "cell_type": "markdown",
   "metadata": {},
   "source": [
    "<img src=\"images/detection_frames.png\" width=\"700\" />"
   ]
  },
  {
   "cell_type": "markdown",
   "metadata": {},
   "source": [
    "Figure 4.1: detection phase: (1) chip bin frame (ep_frame) with x axis on the longitudinal plane of the bin. (2) shifted chip bin frame (sep_frame) with x axis on the longitudinal plane of the bin."
   ]
  },
  {
   "cell_type": "markdown",
   "metadata": {},
   "source": [
    "The server **europallet_detector_server.py** publishes through **the Poi_message** the pose of the ep_frame and the sep_frame."
   ]
  },
  {
   "cell_type": "markdown",
   "metadata": {},
   "source": [
    "[Go to top](#Autonomous-Mobile-Robot-Pallet-Truck-inside-a-Smart-Factory)"
   ]
  },
  {
   "cell_type": "markdown",
   "metadata": {},
   "source": [
    "#### 4.2 amr_rendezvous"
   ]
  },
  {
   "cell_type": "markdown",
   "metadata": {},
   "source": [
    "The amr_rendezvous package launches the europallet_randezvous_node in which runs the algorithm implemented in the europallet_randezvous.py file, see the structure package below. \n",
    "\n",
    "This algorithm provides to stage the approach phase between the AMR and the chip bin in the following steps:\n",
    "- calling the /europallet_detector_server and writing the result in the goal_delta_pose;\n",
    "- rotating the AMR until its nose is in line with the y-axis i.e. is orthogonal to the symmetric axis of the europallet footprint;\n",
    "- moving the AMR along the y-axis until the base_link overlaps the origin of the sep_frame;\n",
    "- rotating again the AMR until the node is in line with the symmetric axis of the europallet footprint;\n",
    "- moving forward the AMR in closed loop so that yaw angle remains of 3.14 radians.\n",
    "- stopping the AMR when it has forked the europallet.\n"
   ]
  },
  {
   "cell_type": "markdown",
   "metadata": {},
   "source": [
    "The figure 4.3 shows the algorithm in action."
   ]
  },
  {
   "cell_type": "markdown",
   "metadata": {},
   "source": [
    "The structure of the amr_rendezvous package is:\n",
    "- launch\n",
    "  - europallet_randezvous_server.launch\n",
    "- src \n",
    "   - europallet_randezvous.py \n",
    "   - europallet_randezvous_server.py\n",
    "- CMakeLists.txt\n",
    "- package.xml\n",
    "- setup.py"
   ]
  },
  {
   "cell_type": "markdown",
   "metadata": {},
   "source": [
    "<img src=\"images/detection_fork.gif\" width=\"700\" />"
   ]
  },
  {
   "cell_type": "markdown",
   "metadata": {},
   "source": [
    "Figure 4.3: approach europallet algorithm."
   ]
  },
  {
   "cell_type": "markdown",
   "metadata": {},
   "source": [
    "Calling the **/randezvous** server, with the **trigger** message, it stages the algorithm."
   ]
  },
  {
   "cell_type": "markdown",
   "metadata": {},
   "source": [
    "[Go to top](#Autonomous-Mobile-Robot-Pallet-Truck-inside-a-Smart-Factory)"
   ]
  },
  {
   "cell_type": "markdown",
   "metadata": {},
   "source": [
    "#### 4.3 amr_disengagement"
   ]
  },
  {
   "cell_type": "markdown",
   "metadata": {},
   "source": [
    "The **amr_disengagement package** launches the europallet_disengagement_node in which runs the algorithm implemented in the europallet_disengagement.py file, see the structure package below, that provides to disengages the AMR from the europallet as shown in the figure 4.4.. "
   ]
  },
  {
   "cell_type": "markdown",
   "metadata": {},
   "source": [
    "The structure of the amr_disengagement package is:\n",
    "- launch\n",
    "  - europallet_disengagement_server.launch\n",
    "- src \n",
    "   - europallet_disengagement.py \n",
    "   - europallet_disengagement_server.py\n",
    "- CMakeLists.txt\n",
    "- package.xml\n",
    "- setup.py"
   ]
  },
  {
   "cell_type": "markdown",
   "metadata": {},
   "source": [
    "<img src=\"images/disengagement empty bin and go home.gif\" width=\"700\" />"
   ]
  },
  {
   "cell_type": "markdown",
   "metadata": {},
   "source": [
    "Figure 4.4: disengagement phase."
   ]
  },
  {
   "cell_type": "markdown",
   "metadata": {},
   "source": [
    "[Go to top](#Autonomous-Mobile-Robot-Pallet-Truck-inside-a-Smart-Factory)"
   ]
  },
  {
   "cell_type": "markdown",
   "metadata": {},
   "source": [
    "#### 4.4 amr_webpage"
   ]
  },
  {
   "cell_type": "markdown",
   "metadata": {},
   "source": [
    "React components allow you to split your code into reusable and isolated pieces."
   ]
  },
  {
   "cell_type": "markdown",
   "metadata": {},
   "source": [
    "The structure of the amr_webpage folder is:\n",
    "- components\n",
    "  - actions\n",
    "   - disengagement_chip_bin.js\n",
    "   - elevator_down_chip_bin.js\n",
    "   - elevator_up_chip_bin.js\n",
    "   - go_home.js\n",
    "   - goto_cnc_machine.js\n",
    "   - goto_empty_chip_bin.js\n",
    "   - goto_full_chip_bin.js\n",
    "   - manual_control.js\n",
    "   - move_chip_bin_to_recycling.js\n",
    "   - randez_vous_chip_bin.js\n",
    "   - recycling_bin.js\n",
    "- sensors \n",
    "   - laser.js\n",
    "   - odometry.js\n",
    "- footer.js\n",
    "- header.js\n",
    "- ros_panel.js\n",
    "- nvm\n",
    "- app.js\n",
    "- index.html\n",
    "- styles.css \n"
   ]
  },
  {
   "cell_type": "markdown",
   "metadata": {},
   "source": [
    "[Go to top](#Autonomous-Mobile-Robot-Pallet-Truck-inside-a-Smart-Factory)"
   ]
  },
  {
   "cell_type": "markdown",
   "metadata": {},
   "source": [
    "### 5. Installation"
   ]
  },
  {
   "cell_type": "markdown",
   "metadata": {},
   "source": [
    "Go to https://github.com/motomechatronics/amr_pallet_trucks"
   ]
  },
  {
   "cell_type": "markdown",
   "metadata": {},
   "source": [
    "[Go to top](#Autonomous-Mobile-Robot-Pallet-Truck-inside-a-Smart-Factory)"
   ]
  },
  {
   "cell_type": "markdown",
   "metadata": {},
   "source": [
    "### 6. Usage "
   ]
  },
  {
   "cell_type": "markdown",
   "metadata": {},
   "source": [
    "Open a terminal and type:"
   ]
  },
  {
   "cell_type": "code",
   "execution_count": null,
   "metadata": {},
   "outputs": [],
   "source": [
    "roslaunch amr_description main_project.launch"
   ]
  },
  {
   "cell_type": "markdown",
   "metadata": {},
   "source": [
    "Open another terminal and type:"
   ]
  },
  {
   "cell_type": "code",
   "execution_count": null,
   "metadata": {},
   "outputs": [],
   "source": [
    "cd ~/catkin_ws/src/amr_pallet_trucks/amr_webpage/"
   ]
  },
  {
   "cell_type": "code",
   "execution_count": null,
   "metadata": {},
   "outputs": [],
   "source": [
    "http-server --port 7000"
   ]
  },
  {
   "cell_type": "markdown",
   "metadata": {},
   "source": [
    "Open another terminal and type:"
   ]
  },
  {
   "cell_type": "code",
   "execution_count": null,
   "metadata": {},
   "outputs": [],
   "source": [
    "webpage_address"
   ]
  },
  {
   "cell_type": "markdown",
   "metadata": {},
   "source": [
    "You will get a web link. Copy and paste the link in a browser or clink on the link. After in the same terminal type:"
   ]
  },
  {
   "cell_type": "code",
   "execution_count": null,
   "metadata": {},
   "outputs": [],
   "source": [
    "rosbridge_address"
   ]
  },
  {
   "cell_type": "markdown",
   "metadata": {},
   "source": [
    "You will get an alphanumeric string, copy and paste the string into the web interface shown in figure 6.1 and press the connect button."
   ]
  },
  {
   "cell_type": "markdown",
   "metadata": {},
   "source": [
    "The web interface shown in figure 6.1 allows to command the AMR. In particular, using the interface it is possible to substitute, at the moment, only one chip bin.\n",
    "\n"
   ]
  },
  {
   "cell_type": "markdown",
   "metadata": {},
   "source": [
    "<img src=\"images/webinterface.png\" width=\"700\" />"
   ]
  },
  {
   "cell_type": "markdown",
   "metadata": {},
   "source": [
    "Figure 6.1: Web Interface. Buttons: (1) go to full bin, (2) fork the bin, (3) elevator up, (4) go to recycling, (5) elevator down, (6) disengagement bin, (7) recycling bin, (8) go to empty bin, (9) go to CNC machine, (10) go home, (11) move forward, (12) move backward, (13) move turn CW, (14) move turn CCW, (15) stop, (16) connect/disconnect. Readings: (17) odometry position, (18) obstacle distances."
   ]
  },
  {
   "cell_type": "markdown",
   "metadata": {},
   "source": [
    "The procedure to stage a substitution cycle is the following:\n",
    "- press the **go to full bin** button, the expected result is shown in figure 6.2."
   ]
  },
  {
   "cell_type": "markdown",
   "metadata": {},
   "source": [
    "<img src=\"images/approch_full_bin2.gif\" width=\"700\" />"
   ]
  },
  {
   "cell_type": "markdown",
   "metadata": {},
   "source": [
    "Figure 6.2: result of pressing the go to full bin button."
   ]
  },
  {
   "cell_type": "markdown",
   "metadata": {},
   "source": [
    "after that, \n",
    "- press the **fork the bin** button and next the **elevator up** button, the expected result is shown in figure 6.3.\n"
   ]
  },
  {
   "cell_type": "markdown",
   "metadata": {},
   "source": [
    "<img src=\"images/fork and lift full bin.gif\" width=\"700\" />"
   ]
  },
  {
   "cell_type": "markdown",
   "metadata": {},
   "source": [
    "Figure 6.3: result of pressing the fork the bin and the elevator up buttons.\n"
   ]
  },
  {
   "cell_type": "markdown",
   "metadata": {},
   "source": [
    "- press the **go to recycling** button and next the **elevator down** button, the expected result is shown in figure 6.4."
   ]
  },
  {
   "cell_type": "markdown",
   "metadata": {},
   "source": [
    "<img src=\"images/move to recycling area lift down full bin.gif\" width=\"700\" />"
   ]
  },
  {
   "cell_type": "markdown",
   "metadata": {},
   "source": [
    "Figure 6.4: result of pressing the go to recycling and the elevator down buttons."
   ]
  },
  {
   "cell_type": "markdown",
   "metadata": {},
   "source": [
    "- press the **disengagement** button and when the AMR will be disengaged press the **recycling bin** and the **go to empty bin** buttons. The expected result is shown in figure 6.5."
   ]
  },
  {
   "cell_type": "markdown",
   "metadata": {},
   "source": [
    "<img src=\"images/disengagement and go to load empty bin.gif\" width=\"700\" />"
   ]
  },
  {
   "cell_type": "markdown",
   "metadata": {},
   "source": [
    "Figure 6.5: result of pressing  the disengagement bin, the recycling bin and the go to empty bin buttons."
   ]
  },
  {
   "cell_type": "markdown",
   "metadata": {},
   "source": [
    "- pressing **fork the bin** button, the expected result is shown in figure 6.6."
   ]
  },
  {
   "cell_type": "markdown",
   "metadata": {},
   "source": [
    "<img src=\"images/fork empty bin and lift up.gif\" width=\"700\" />"
   ]
  },
  {
   "cell_type": "markdown",
   "metadata": {},
   "source": [
    "Figure 6.6: result of pressing the go to empty bin button."
   ]
  },
  {
   "cell_type": "markdown",
   "metadata": {},
   "source": [
    "- press the **go to cnc machine** button and next the **elevator down** button, the expected result is shown in figure 6.7."
   ]
  },
  {
   "cell_type": "markdown",
   "metadata": {},
   "source": [
    "<img src=\"images/go to cnc machine and lift down empty bin.gif\" width=\"700\" />"
   ]
  },
  {
   "cell_type": "markdown",
   "metadata": {},
   "source": [
    "Figure 6.7: result of pressing the go to cnc machine and the elevator down buttons.\n"
   ]
  },
  {
   "cell_type": "markdown",
   "metadata": {},
   "source": [
    "- by pressing the **disengagement** and the **go home** buttons the cycle ends. The expected result is shown in figure 6.8."
   ]
  },
  {
   "cell_type": "markdown",
   "metadata": {},
   "source": [
    "<img src=\"images/disengagement empty bin and go home.gif\" width=\"700\" />"
   ]
  },
  {
   "cell_type": "markdown",
   "metadata": {},
   "source": [
    "Figure 6.8: result of pressing the disengagement and the go home buttons.\n"
   ]
  },
  {
   "cell_type": "markdown",
   "metadata": {},
   "source": [
    "[Go to top](#Autonomous-Mobile-Robot-Pallet-Truck-inside-a-Smart-Factory)"
   ]
  }
 ],
 "metadata": {
  "kernelspec": {
   "display_name": "Python 2",
   "language": "python",
   "name": "python2"
  },
  "language_info": {
   "codemirror_mode": {
    "name": "ipython",
    "version": 2
   },
   "file_extension": ".py",
   "mimetype": "text/x-python",
   "name": "python",
   "nbconvert_exporter": "python",
   "pygments_lexer": "ipython2",
   "version": "2.7.16"
  }
 },
 "nbformat": 4,
 "nbformat_minor": 1
}
